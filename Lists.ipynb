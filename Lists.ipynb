{
  "nbformat": 4,
  "nbformat_minor": 0,
  "metadata": {
    "colab": {
      "provenance": [],
      "authorship_tag": "ABX9TyOlS0ciQfpOwuMTx84vtajM"
    },
    "kernelspec": {
      "name": "python3",
      "display_name": "Python 3"
    },
    "language_info": {
      "name": "python"
    }
  },
  "cells": [
    {
      "cell_type": "code",
      "execution_count": null,
      "metadata": {
        "colab": {
          "base_uri": "https://localhost:8080/"
        },
        "id": "qWfynBgdjTn2",
        "outputId": "66d45dcb-b6e5-4fc2-8a50-a0330148bcda"
      },
      "outputs": [
        {
          "output_type": "stream",
          "name": "stdout",
          "text": [
            "34\n",
            "insert 1 10\n",
            "insert 2 35\n",
            "print\n",
            "[10, 35]\n",
            "remove 10\n",
            "append 8\n",
            "append 6\n",
            "sort\n",
            "print\n",
            "[6, 8, 35]\n",
            "reverse\n",
            "print\n",
            "[35, 8, 6]\n"
          ]
        }
      ],
      "source": [
        "if __name__ == '__main__':\n",
        "    N = int(input())\n",
        "    arr = []\n",
        "        \n",
        "    for _ in range(N):\n",
        "        command, *values = input().split() \n",
        "        values = tuple(map(int, values))\n",
        "        if command == 'print':\n",
        "            print(arr)\n",
        "        else:\n",
        "            eval(f\"arr.{command}{values}\")"
      ]
    }
  ]
}