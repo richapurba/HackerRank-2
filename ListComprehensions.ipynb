{
  "cells": [
    {
      "cell_type": "code",
      "execution_count": null,
      "metadata": {
        "id": "lIYdn1woOS1n",
        "colab": {
          "base_uri": "https://localhost:8080/"
        },
        "outputId": "709a403f-74e9-4a85-f9ce-f607349a6fb6"
      },
      "outputs": [
        {
          "output_type": "stream",
          "name": "stdout",
          "text": [
            "1\n",
            "3\n",
            "6\n",
            "8\n",
            "[[0, 0, 0], [0, 0, 1], [0, 0, 2], [0, 0, 3], [0, 0, 4], [0, 0, 5], [0, 0, 6], [0, 1, 0], [0, 1, 1], [0, 1, 2], [0, 1, 3], [0, 1, 4], [0, 1, 5], [0, 1, 6], [0, 2, 0], [0, 2, 1], [0, 2, 2], [0, 2, 3], [0, 2, 4], [0, 2, 5], [0, 3, 0], [0, 3, 1], [0, 3, 2], [0, 3, 3], [0, 3, 4], [0, 3, 6], [1, 0, 0], [1, 0, 1], [1, 0, 2], [1, 0, 3], [1, 0, 4], [1, 0, 5], [1, 0, 6], [1, 1, 0], [1, 1, 1], [1, 1, 2], [1, 1, 3], [1, 1, 4], [1, 1, 5], [1, 2, 0], [1, 2, 1], [1, 2, 2], [1, 2, 3], [1, 2, 4], [1, 2, 6], [1, 3, 0], [1, 3, 1], [1, 3, 2], [1, 3, 3], [1, 3, 5], [1, 3, 6]]\n"
          ]
        }
      ],
      "source": [
        "if __name__ == '__main__':\n",
        "      x = int(input())\n",
        "      y = int(input())\n",
        "      z = int(input())\n",
        "      n = int(input())\n",
        "                      \n",
        "      listing = [[i,j,k] \n",
        "          for i in range(x+1)\n",
        "              for j in range(y+1)\n",
        "                  for k in range(z+1)\n",
        "                      if i+j+k != n]\n",
        "      print(listing)"
      ]
    }
  ],
  "metadata": {
    "colab": {
      "provenance": []
    },
    "kernelspec": {
      "display_name": "Python 3",
      "name": "python3"
    }
  },
  "nbformat": 4,
  "nbformat_minor": 0
}