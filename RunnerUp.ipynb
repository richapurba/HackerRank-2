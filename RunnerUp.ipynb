{
  "nbformat": 4,
  "nbformat_minor": 0,
  "metadata": {
    "colab": {
      "provenance": [],
      "authorship_tag": "ABX9TyN6/3uXJcOREadJ6B46wzuI"
    },
    "kernelspec": {
      "name": "python3",
      "display_name": "Python 3"
    },
    "language_info": {
      "name": "python"
    }
  },
  "cells": [
    {
      "cell_type": "code",
      "execution_count": null,
      "metadata": {
        "id": "eicGRGoGbaum"
      },
      "outputs": [],
      "source": [
        "if __name__ == '__main__':\n",
        "      n = int(input())\n",
        "      arr = map(int, input().split())\n",
        "              \n",
        "      arr1 = list(arr)\n",
        "      print(max([x for x in arr1 if x != max(arr1)]))"
      ]
    }
  ]
}